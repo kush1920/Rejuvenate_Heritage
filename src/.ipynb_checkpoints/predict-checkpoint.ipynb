{
 "cells": [
  {
   "cell_type": "code",
   "execution_count": 1,
   "metadata": {},
   "outputs": [
    {
     "name": "stderr",
     "output_type": "stream",
     "text": [
      "Using TensorFlow backend.\n"
     ]
    }
   ],
   "source": [
    "from predict_mask import *\n",
    "from predict_gan import *\n",
    "import numpy as np\n",
    "import cv2"
   ]
  },
  {
   "cell_type": "code",
   "execution_count": 2,
   "metadata": {},
   "outputs": [],
   "source": [
    "def predict(img):\n",
    "    mask = predict_mask(img)\n",
    "    final = predict_final(img , mask)\n",
    "    final = cv2.cvtColor(cv2.resize(final , (img.shape[1] , img.shape[0])) , cv2.COLOR_RGB2BGR)\n",
    "    mask = cv2.resize(mask , (img.shape[1] , img.shape[0]))\n",
    "    return final , mask"
   ]
  },
  {
   "cell_type": "code",
   "execution_count": null,
   "metadata": {},
   "outputs": [],
   "source": [
    "import os \n",
    "paths = os.listdir('../data/Dataset/damaged/')"
   ]
  },
  {
   "cell_type": "code",
   "execution_count": 4,
   "metadata": {},
   "outputs": [],
   "source": [
    "#img = cv2.imread('../Dataset/damaged/' + paths[np.random.randint(len(paths))])\n",
    "#img = cv2.imread('../Dataset/damaged/' + str(388)+'.jpg')\n",
    "img = cv2.imread('1.jpg')"
   ]
  },
  {
   "cell_type": "code",
   "execution_count": 5,
   "metadata": {
    "scrolled": true
   },
   "outputs": [
    {
     "name": "stdout",
     "output_type": "stream",
     "text": [
      "WARNING:tensorflow:From C:\\Users\\KUSHBAB\\anaconda3\\envs\\tf_gpu\\lib\\site-packages\\tensorflow_core\\python\\ops\\resource_variable_ops.py:1635: calling BaseResourceVariable.__init__ (from tensorflow.python.ops.resource_variable_ops) with constraint is deprecated and will be removed in a future version.\n",
      "Instructions for updating:\n",
      "If using Keras pass *_constraint arguments to layers.\n",
      "tracking <tf.Variable 'p_conv2d_1/Variable:0' shape=(7, 7, 3, 64) dtype=float32> kernel_mask\n",
      "tracking <tf.Variable 'p_conv2d_2/Variable:0' shape=(5, 5, 64, 128) dtype=float32> kernel_mask\n",
      "tracking <tf.Variable 'p_conv2d_3/Variable:0' shape=(5, 5, 128, 256) dtype=float32> kernel_mask\n",
      "tracking <tf.Variable 'p_conv2d_4/Variable:0' shape=(3, 3, 256, 512) dtype=float32> kernel_mask\n",
      "tracking <tf.Variable 'p_conv2d_5/Variable:0' shape=(3, 3, 512, 512) dtype=float32> kernel_mask\n",
      "tracking <tf.Variable 'p_conv2d_6/Variable:0' shape=(3, 3, 512, 512) dtype=float32> kernel_mask\n",
      "tracking <tf.Variable 'p_conv2d_7/Variable:0' shape=(3, 3, 512, 512) dtype=float32> kernel_mask\n",
      "tracking <tf.Variable 'p_conv2d_8/Variable:0' shape=(3, 3, 512, 512) dtype=float32> kernel_mask\n",
      "tracking <tf.Variable 'p_conv2d_9/Variable:0' shape=(3, 3, 1024, 512) dtype=float32> kernel_mask\n",
      "tracking <tf.Variable 'p_conv2d_10/Variable:0' shape=(3, 3, 1024, 512) dtype=float32> kernel_mask\n",
      "tracking <tf.Variable 'p_conv2d_11/Variable:0' shape=(3, 3, 1024, 512) dtype=float32> kernel_mask\n",
      "tracking <tf.Variable 'p_conv2d_12/Variable:0' shape=(3, 3, 1024, 512) dtype=float32> kernel_mask\n",
      "tracking <tf.Variable 'p_conv2d_13/Variable:0' shape=(3, 3, 768, 256) dtype=float32> kernel_mask\n",
      "tracking <tf.Variable 'p_conv2d_14/Variable:0' shape=(3, 3, 384, 128) dtype=float32> kernel_mask\n",
      "tracking <tf.Variable 'p_conv2d_15/Variable:0' shape=(3, 3, 192, 64) dtype=float32> kernel_mask\n",
      "tracking <tf.Variable 'p_conv2d_16/Variable:0' shape=(3, 3, 67, 3) dtype=float32> kernel_mask\n",
      "tracking <tf.Variable 'p_conv2d_17/Variable:0' shape=(7, 7, 3, 64) dtype=float32> kernel_mask\n",
      "tracking <tf.Variable 'p_conv2d_18/Variable:0' shape=(5, 5, 64, 128) dtype=float32> kernel_mask\n",
      "tracking <tf.Variable 'p_conv2d_19/Variable:0' shape=(5, 5, 128, 256) dtype=float32> kernel_mask\n",
      "tracking <tf.Variable 'p_conv2d_20/Variable:0' shape=(3, 3, 256, 512) dtype=float32> kernel_mask\n",
      "tracking <tf.Variable 'p_conv2d_21/Variable:0' shape=(3, 3, 512, 512) dtype=float32> kernel_mask\n",
      "tracking <tf.Variable 'p_conv2d_22/Variable:0' shape=(3, 3, 512, 512) dtype=float32> kernel_mask\n",
      "tracking <tf.Variable 'p_conv2d_23/Variable:0' shape=(3, 3, 512, 512) dtype=float32> kernel_mask\n",
      "tracking <tf.Variable 'p_conv2d_24/Variable:0' shape=(3, 3, 512, 512) dtype=float32> kernel_mask\n",
      "tracking <tf.Variable 'p_conv2d_25/Variable:0' shape=(3, 3, 1024, 512) dtype=float32> kernel_mask\n",
      "tracking <tf.Variable 'p_conv2d_26/Variable:0' shape=(3, 3, 1024, 512) dtype=float32> kernel_mask\n",
      "tracking <tf.Variable 'p_conv2d_27/Variable:0' shape=(3, 3, 1024, 512) dtype=float32> kernel_mask\n",
      "tracking <tf.Variable 'p_conv2d_28/Variable:0' shape=(3, 3, 1024, 512) dtype=float32> kernel_mask\n",
      "tracking <tf.Variable 'p_conv2d_29/Variable:0' shape=(3, 3, 768, 256) dtype=float32> kernel_mask\n",
      "tracking <tf.Variable 'p_conv2d_30/Variable:0' shape=(3, 3, 384, 128) dtype=float32> kernel_mask\n",
      "tracking <tf.Variable 'p_conv2d_31/Variable:0' shape=(3, 3, 192, 64) dtype=float32> kernel_mask\n",
      "tracking <tf.Variable 'p_conv2d_32/Variable:0' shape=(3, 3, 67, 3) dtype=float32> kernel_mask\n"
     ]
    }
   ],
   "source": [
    "final , mask = predict(img)\n",
    "cv2.imshow('img' , cv2.resize(img , (512,256)))\n",
    "cv2.imshow('mask' , cv2.resize(mask, (512,256)))\n",
    "cv2.imshow('final' , cv2.resize(final, (512,256)))\n",
    "cv2.waitKey(0)\n",
    "cv2.destroyAllWindows()"
   ]
  },
  {
   "cell_type": "code",
   "execution_count": null,
   "metadata": {},
   "outputs": [],
   "source": []
  }
 ],
 "metadata": {
  "kernelspec": {
   "display_name": "Python 3",
   "language": "python",
   "name": "python3"
  },
  "language_info": {
   "codemirror_mode": {
    "name": "ipython",
    "version": 3
   },
   "file_extension": ".py",
   "mimetype": "text/x-python",
   "name": "python",
   "nbconvert_exporter": "python",
   "pygments_lexer": "ipython3",
   "version": "3.7.7"
  }
 },
 "nbformat": 4,
 "nbformat_minor": 4
}
